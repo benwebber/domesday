{
 "cells": [
  {
   "cell_type": "markdown",
   "metadata": {},
   "source": [
    "# Domesday\n",
    "## An interactive notebook to explore the PASE Domesday Database"
   ]
  },
  {
   "cell_type": "markdown",
   "metadata": {},
   "source": [
    "The [Prosopography of Anglo-Saxon England (PASE)](http://pase.ac.uk/) aims to provide information on every recorded inhabitant of Anglo-Saxon England. It offers a [curated database](http://domesday.pase.ac.uk/) representing landholders recorded in Domesday Book.\n",
    "\n",
    "We can use data from the PASE Domesday database, Pandas, and Jupyter Notebook to explore the structure of pre- and post-Conquest England."
   ]
  },
  {
   "cell_type": "markdown",
   "metadata": {},
   "source": [
    "## Setup\n",
    "\n",
    "Download a CSV copy of the Domesday database."
   ]
  },
  {
   "cell_type": "code",
   "execution_count": null,
   "metadata": {},
   "outputs": [],
   "source": [
    "%%bash\n",
    "wget --no-clobber --output-document=domesday.csv http://domesday.pase.ac.uk/Domesday?op=7"
   ]
  },
  {
   "cell_type": "markdown",
   "metadata": {},
   "source": [
    "Import Pandas and friends."
   ]
  },
  {
   "cell_type": "code",
   "execution_count": null,
   "metadata": {},
   "outputs": [],
   "source": [
    "import matplotlib.pyplot as plt\n",
    "import numpy as np\n",
    "import pandas as pd"
   ]
  },
  {
   "cell_type": "markdown",
   "metadata": {},
   "source": [
    "Define helper functions."
   ]
  },
  {
   "cell_type": "code",
   "execution_count": null,
   "metadata": {},
   "outputs": [],
   "source": [
    "def display_side_by_side(*objs, **kwargs):\n",
    "    \"\"\"\n",
    "    Display two Pandas objects side-by-side.\n",
    "\n",
    "    https://stackoverflow.com/a/47093289\n",
    "    \"\"\"\n",
    "    from pandas.io.formats.printing import adjoin\n",
    "    space = kwargs.get('space', 8)\n",
    "    reprs = [repr(obj).split('\\n') for obj in objs]\n",
    "    print(adjoin(space, *reprs))"
   ]
  },
  {
   "cell_type": "markdown",
   "metadata": {},
   "source": [
    "Clean the data and load it into an SQLite3 database."
   ]
  },
  {
   "cell_type": "code",
   "execution_count": null,
   "metadata": {},
   "outputs": [],
   "source": [
    "import domesday\n",
    "\n",
    "db = domesday.Database('domesday.db')\n",
    "db.load_csv('domesday.csv')"
   ]
  },
  {
   "cell_type": "markdown",
   "metadata": {},
   "source": [
    "## Exploration\n",
    "\n",
    "Let's examine the structure of the database.\n",
    "\n",
    "### Fields\n",
    "\n",
    "`name`\n",
    "\n",
    "    Person's given name\n",
    "\n",
    "`gender`\n",
    "\n",
    "    Person's gender\n",
    "\n",
    "    Note: the PASE database uses \"Male\" and \"Female\" instead of more specific gender terms.\n",
    "`pase_name`\n",
    "\n",
    "    Person's unique PASE identifier\n",
    "`holder_1066`\n",
    "\n",
    "    Total value of estates held by this person in 1066\n",
    "\n",
    "`lord_1066`\n",
    "\n",
    "    Total value of estates held by people connected to this person in 1066\n",
    "\n",
    "`demesne_1086`\n",
    "\n",
    "    Total value of estates held in demesne by this person in 1086\n",
    "\n",
    "`subtenanted_1086`\n",
    "\n",
    "    Total value of estates let to subtenants in 1086\n",
    "\n",
    "`subtenant_1086`\n",
    "\n",
    "    Total value of estates held as a subtenant in 1086\n",
    "\n",
    "`editor`\n",
    "\n",
    "    PASE author responsible for record\n",
    "`editorial status`\n",
    "\n",
    "    Indicates how complete the person's profile is in the PASE Domesday database.\n",
    "    \n",
    "    Refer to the historial research methods for more information:\n",
    "\n",
    "        <http://domesday.pase.ac.uk/pde/about.jsp#historical-research>"
   ]
  },
  {
   "cell_type": "code",
   "execution_count": null,
   "metadata": {},
   "outputs": [],
   "source": [
    "df = db.to_dataframe()\n",
    "df.head()"
   ]
  },
  {
   "cell_type": "markdown",
   "metadata": {},
   "source": [
    "The `holder_1066`, `lord_1066`, `demesne_1086`, `subtenanted_1086`, and `subtenant_1086` fields record the total taxable value of land in [hides][].\n",
    "There is no clear relationship between a hide and the size of a property.\n",
    "At the time of Domesday, one hide corresponded to &pound;1 of income per annum.\n",
    "\n",
    "The economy of medieval Britain was vastly different from our own.\n",
    "There is no direct conversion rate for 1086 pounds to modern pounds.\n",
    "For our purposes let's assume that &pound;1 (1086) = &pound;7200 (2018)<sup>1</sup>.\n",
    "\n",
    "[hides]: https://en.wikipedia.org/wiki/Hide_(unit)"
   ]
  },
  {
   "cell_type": "markdown",
   "metadata": {},
   "source": [
    "## Before and after the Conquest\n",
    "### Wealth"
   ]
  },
  {
   "cell_type": "markdown",
   "metadata": {},
   "source": [
    "We can easily caclulate the total value of every landholder's estates in 1066 and 1086."
   ]
  },
  {
   "cell_type": "code",
   "execution_count": null,
   "metadata": {},
   "outputs": [],
   "source": [
    "df['total_1066'] = df.holder_1066 + df.lord_1066\n",
    "df['total_1086'] = df.demesne_1086 + df.subtenanted_1086 + df.subtenant_1086\n",
    "df.describe(include=[np.number])"
   ]
  },
  {
   "cell_type": "markdown",
   "metadata": {},
   "source": [
    "What fraction of landholders were completely dispossessed by the conquest?"
   ]
  },
  {
   "cell_type": "code",
   "execution_count": null,
   "metadata": {},
   "outputs": [],
   "source": [
    "has_holdings_1066 = df.total_1066 != 0\n",
    "has_holdings_1086 = df.total_1086 != 0\n",
    "no_holdings_1066 = df.total_1066 == 0\n",
    "no_holdings_1086 = df.total_1086 == 0\n",
    "\n",
    "df[has_holdings_1066 & no_holdings_1086].shape[0] / df[has_holdings_1066].shape[0]"
   ]
  },
  {
   "cell_type": "markdown",
   "metadata": {},
   "source": [
    "The vast majority of Anglo-Saxon landholders lost their holdings after the Conquest."
   ]
  },
  {
   "cell_type": "markdown",
   "metadata": {},
   "source": [
    "Who were the richest people in England before the conquest?"
   ]
  },
  {
   "cell_type": "code",
   "execution_count": null,
   "metadata": {},
   "outputs": [],
   "source": [
    "# columns to exclude from summary reports\n",
    "detailed_columns = ['gender', 'pase_name', 'holder_1066', 'lord_1066', 'demesne_1086', 'subtenanted_1086', 'subtenant_1086', 'editor', 'editorial_status']\n",
    "\n",
    "df.drop(detailed_columns, axis=1).sort_values('total_1066', ascending=False).head(10)"
   ]
  },
  {
   "cell_type": "markdown",
   "metadata": {},
   "source": [
    "How about in 1086?"
   ]
  },
  {
   "cell_type": "code",
   "execution_count": null,
   "metadata": {
    "scrolled": true
   },
   "outputs": [],
   "source": [
    "df.drop(detailed_columns, axis=1).sort_values('total_1086', ascending=False).head(10)"
   ]
  },
  {
   "cell_type": "markdown",
   "metadata": {},
   "source": [
    "As expected, the nouveau riche belonged to the new Norman aristocracy. Odo and Robert were William's half-brothers."
   ]
  },
  {
   "cell_type": "markdown",
   "metadata": {},
   "source": [
    "Did the number of landholders grow after the Conquest, or did William consolidate power during his purge?"
   ]
  },
  {
   "cell_type": "code",
   "execution_count": null,
   "metadata": {},
   "outputs": [],
   "source": [
    "fix, ax = plt.subplots()\n",
    "ax.set_title('Landholders pre- and post-Conquest')\n",
    "ax.set_ylabel('Number of landholders')\n",
    "\n",
    "ind = np.arange(2)\n",
    "ax.set_xticks(ind)\n",
    "ax.set_xticklabels([1066, 1086])\n",
    "landholders_by_year = [df[has_holdings_1066].shape[0], df[has_holdings_1086].shape[0]]\n",
    "\n",
    "ax.bar(ind, landholders_by_year)"
   ]
  },
  {
   "cell_type": "markdown",
   "metadata": {},
   "source": [
    "Clearly William restructured the aristrocracy in his favour. Who could blame him?"
   ]
  },
  {
   "cell_type": "markdown",
   "metadata": {},
   "source": [
    "Who held land in 1066, and still came out on top in 1086?"
   ]
  },
  {
   "cell_type": "code",
   "execution_count": null,
   "metadata": {},
   "outputs": [],
   "source": [
    "df['absolute_D'] = df.total_1086 - df.total_1066  # total change in land value\n",
    "df['relative_D'] = df.absolute_D / df.total_1066  # relative change in land value\n",
    "\n",
    "survivors = (\n",
    "    df[has_holdings_1066 & has_holdings_1086 & (df.relative_D > 1)]  # did not lose equity\n",
    "    .drop(detailed_columns, axis=1)\n",
    "    .sort_values('total_1086', ascending=False)\n",
    "    .head(10)\n",
    ")\n",
    "survivors"
   ]
  },
  {
   "cell_type": "markdown",
   "metadata": {},
   "source": [
    "Who profited the most (relatively) after the Conquest?"
   ]
  },
  {
   "cell_type": "code",
   "execution_count": null,
   "metadata": {},
   "outputs": [],
   "source": [
    "survivors.sort_values('relative_D', ascending=False)"
   ]
  },
  {
   "cell_type": "markdown",
   "metadata": {},
   "source": [
    "## Names"
   ]
  },
  {
   "cell_type": "markdown",
   "metadata": {},
   "source": [
    "How many unique names does the Domesday database contain? See `freq` below."
   ]
  },
  {
   "cell_type": "code",
   "execution_count": null,
   "metadata": {
    "scrolled": true
   },
   "outputs": [],
   "source": [
    "df.describe(include=[np.object])"
   ]
  },
  {
   "cell_type": "markdown",
   "metadata": {},
   "source": [
    "What were the most common names before the Conquest?"
   ]
  },
  {
   "cell_type": "code",
   "execution_count": null,
   "metadata": {
    "scrolled": true
   },
   "outputs": [],
   "source": [
    "is_anonymous = df.name.isin(['Anonymous', 'Anonymi'])\n",
    "\n",
    "named_men = (~is_anonymous) & (df.gender == 'Male')\n",
    "named_women = (~is_anonymous) & (df.gender == 'Female')\n",
    "\n",
    "display_side_by_side(\n",
    "    df[named_men & has_holdings_1066].name.value_counts().head(20),\n",
    "    df[named_women & has_holdings_1066].name.value_counts().head(20),\n",
    ")"
   ]
  },
  {
   "cell_type": "markdown",
   "metadata": {},
   "source": [
    "&AElig;lfric and &AElig;lfgifu were the John and Mary of Anglo-Saxon England. After the conquest, we see a large influx of Norman French names. Most &AElig;lfrics and &AElig;lfgifus lost their lands."
   ]
  },
  {
   "cell_type": "code",
   "execution_count": null,
   "metadata": {},
   "outputs": [],
   "source": [
    "has_holdings_1086 = df.total_1086 != 0\n",
    "display_side_by_side(\n",
    "    df[named_men & has_holdings_1086].name.value_counts().head(20),\n",
    "    df[named_women & has_holdings_1086].name.value_counts().head(20),\n",
    ")"
   ]
  },
  {
   "cell_type": "markdown",
   "metadata": {},
   "source": [
    "Some landholders only appear in 1066. We can use the `total_1066` and `total_1086` fields to isolate them."
   ]
  },
  {
   "cell_type": "code",
   "execution_count": null,
   "metadata": {},
   "outputs": [],
   "source": [
    "names_men_1066 = df[named_men & has_holdings_1066].name\n",
    "names_men_1086 = df[named_men & has_holdings_1086].name\n",
    "\n",
    "names_women_1066 = df[named_women & has_holdings_1066].name\n",
    "names_women_1086 = df[named_women & has_holdings_1086].name\n",
    "\n",
    "display_side_by_side(\n",
    "    names_men_1066[~names_men_1066.isin(names_men_1086)].value_counts().head(30),\n",
    "    names_women_1066[~names_women_1066.isin(names_women_1086)].value_counts().head(30),\n",
    ")"
   ]
  },
  {
   "cell_type": "markdown",
   "metadata": {},
   "source": [
    "Similarly, we can get a better picture of the Norman aristocracy by isolating people who held no land in 1066."
   ]
  },
  {
   "cell_type": "code",
   "execution_count": null,
   "metadata": {},
   "outputs": [],
   "source": [
    "display_side_by_side(\n",
    "    names_men_1086[~names_men_1086.isin(names_men_1066)].value_counts().head(30),\n",
    "    names_women_1086[~names_women_1086.isin(names_women_1066)].value_counts().head(30)\n",
    ")"
   ]
  },
  {
   "cell_type": "markdown",
   "metadata": {},
   "source": [
    "### Generating random names\n",
    "\n",
    "You'll recognize by now that there is a pattern to the Anglo-Saxon names we've encountered.\n",
    "Germanic names traditionally comprise a prefix and a suffix.\n",
    "For example, Leofgifu is derived from *leof* (friendly) and *gifu* (gift).\n",
    "Some components appear as both prefixes and suffixes, such as *wulf* or *ulf* (wolf).\n",
    "\n",
    "We can generate pseudo-Germanic names from the Domesday data.\n",
    "Perfect for your *Dungeons & Dragons* campaign!\n",
    "\n",
    "First we need a way to detect syllables in a given string. \n",
    "This is a very hard problem, not least because of English orthography.\n",
    "\n",
    "We could instead use hyphenation rules to approximate syllable boundaries.\n",
    "We will use [Pyphen](https://github.com/Kozea/Pyphen), a Python wrapper for the OpenOffice hyphenation dictionaries, to detect name components."
   ]
  },
  {
   "cell_type": "code",
   "execution_count": null,
   "metadata": {},
   "outputs": [],
   "source": [
    "from collections import Counter\n",
    "import random\n",
    "from typing import (\n",
    "    List,\n",
    "    Tuple,\n",
    ")\n",
    "\n",
    "import pyphen\n",
    "\n",
    "\n",
    "def count_components(names: List[str]) -> Tuple[Counter]:\n",
    "    \"\"\"\n",
    "    Count prefixes and suffixes in a list of Germanic names using\n",
    "    hyphenation rules.\n",
    "    \"\"\"\n",
    "    hyphenator = pyphen.Pyphen(lang='en')\n",
    "    prefixes, suffixes = Counter(), Counter()\n",
    "    for name in names:\n",
    "        for prefix, suffix in hyphenate(name):\n",
    "            prefixes.update([prefix])\n",
    "            suffixes.update([suffix])\n",
    "    return prefixes, suffixes\n",
    "\n",
    "\n",
    "def generate_names(names: List[str], n: int = 10) -> str:\n",
    "    \"\"\"\n",
    "    Generate n random Germanic names from a list of real names.\n",
    "    \"\"\"\n",
    "    prefixes, suffixes = count_components(names)\n",
    "    # random.choices generates weighted choices from a population:\n",
    "    #\n",
    "    #     >>> random.choices(choices, weights)\n",
    "    #\n",
    "    # Use the counter counts as relative weights.\n",
    "    pairs = zip(\n",
    "        random.choices(*zip(*prefixes.most_common()), k=n),\n",
    "        random.choices(*zip(*suffixes.most_common()), k=n),\n",
    "    )\n",
    "    for pair in pairs:\n",
    "        yield ''.join(pair)"
   ]
  },
  {
   "cell_type": "markdown",
   "metadata": {},
   "source": [
    "Let's try our generator with the list of landholders from 1066."
   ]
  },
  {
   "cell_type": "code",
   "execution_count": null,
   "metadata": {},
   "outputs": [],
   "source": [
    "for name in generate_names(names_men_1066.tolist()):\n",
    "    print(name)"
   ]
  },
  {
   "cell_type": "markdown",
   "metadata": {},
   "source": [
    "Those sound pretty good!\n",
    "Unfortunately, the population of womens' names is much smaller, so names are decidely more predictable."
   ]
  },
  {
   "cell_type": "code",
   "execution_count": null,
   "metadata": {},
   "outputs": [],
   "source": [
    "for name in generate_names(names_women_1066.tolist()):\n",
    "    print(name)"
   ]
  },
  {
   "cell_type": "markdown",
   "metadata": {},
   "source": [
    "So far we've generated pseudo-Germanic names that approximate historical names.\n",
    "\n",
    "For good fun, we can generate pseudo- Norman and Anglo-Norman names.\n",
    "Of course, French names do not follow the same prefix–suffix convention, so these names are much more fantastic."
   ]
  },
  {
   "cell_type": "code",
   "execution_count": null,
   "metadata": {},
   "outputs": [],
   "source": [
    "# Generate pseudo-Norman mens' names from the list of landholders that only appear in 1086.\n",
    "for name in generate_names(names_men_1086[~names_men_1086.isin(names_men_1066)].tolist()):\n",
    "    print(name)"
   ]
  },
  {
   "cell_type": "code",
   "execution_count": null,
   "metadata": {},
   "outputs": [],
   "source": [
    "# Generate pseudo-Norman womens' names from the list of landholders that only appear in 1086.\n",
    "for name in generate_names(names_women_1086[~names_women_1086.isin(names_women_1066)].tolist()):\n",
    "    print(name)"
   ]
  },
  {
   "cell_type": "code",
   "execution_count": null,
   "metadata": {},
   "outputs": [],
   "source": [
    "# Generate pseudo-Anglo-Norman mens' names from the list of all landholders in 1086.\n",
    "for name in generate_names(names_men_1086.tolist()):\n",
    "    print(name)"
   ]
  },
  {
   "cell_type": "code",
   "execution_count": null,
   "metadata": {},
   "outputs": [],
   "source": [
    "# Generate pseudo-Anglo-Norman mens' names from the list of all landholders in 1086.\n",
    "for name in generate_names(names_women_1086.tolist()):\n",
    "    print(name)"
   ]
  },
  {
   "cell_type": "markdown",
   "metadata": {},
   "source": [
    "---\n",
    "\n",
    "## Footnotes\n",
    "\n",
    "1. Adjusted for inflation: &pound;1 = &pound;4800 in 2003 (https://regia.org/research/misc/costs.htm)."
   ]
  },
  {
   "cell_type": "code",
   "execution_count": null,
   "metadata": {},
   "outputs": [],
   "source": []
  }
 ],
 "metadata": {
  "kernelspec": {
   "display_name": "Python 3",
   "language": "python",
   "name": "python3"
  },
  "language_info": {
   "codemirror_mode": {
    "name": "ipython",
    "version": 3
   },
   "file_extension": ".py",
   "mimetype": "text/x-python",
   "name": "python",
   "nbconvert_exporter": "python",
   "pygments_lexer": "ipython3",
   "version": "3.6.1"
  }
 },
 "nbformat": 4,
 "nbformat_minor": 2
}
